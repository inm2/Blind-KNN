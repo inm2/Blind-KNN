{
 "cells": [
  {
   "cell_type": "markdown",
   "metadata": {},
   "source": [
    "# KNN Classification\n",
    "\n",
    "K-nearest neighbors is an algorithm that is used to predict or classify a result based on data inputs and its resulting output(s). For this project, I am trying to determine the classification accuracy of distance between a RFID reader (transmitter) and an RFID tag (receiver), based on the data used for the project. \n",
    "\n",
    "The project was designed by setting up an antenna connected to an RFID reader along different points in a 28 sq ft grid. The RFID reader received backscattered RSSI data from a passive RFID tag, which was placed in a fixed location. The antenna was mounted to a rotating platform. The antenna transmits and receives in 30-degree intervals. Once the antenna was rotated along a 360-degree interval, the antenna was moved to the next point in the grid and the process is then repeated. Once the data was cleaned, overall, 16,183 data points were able to be used for the algorithm.\n",
    "\n",
    "The distance classifier shows the range in which the signal was received. \n",
    "\n",
    "\n",
    "## Explanation of Column Names\n",
    "- x.coord = X-coordinate of grid used for testing  \n",
    "- y.coord = Y-coordinate of grid used for testing  \n",
    "- angle =  Current angle to the tranmitter  \n",
    "- distance = Measured distance from receiver to transmitter   \n",
    "- RSSI = Recieved Signal Strength Index, an indicator of how strong a signal is receieved from a transmitter to receiver  \n",
    "- rel = Angle relative to the transmitter  \n",
    "- dist1 = Distance range in which the receiver was placed (Classifier)  "
   ]
  },
  {
   "cell_type": "code",
   "execution_count": 2,
   "metadata": {},
   "outputs": [
    {
     "data": {
      "text/html": [
       "<div>\n",
       "<style scoped>\n",
       "    .dataframe tbody tr th:only-of-type {\n",
       "        vertical-align: middle;\n",
       "    }\n",
       "\n",
       "    .dataframe tbody tr th {\n",
       "        vertical-align: top;\n",
       "    }\n",
       "\n",
       "    .dataframe thead th {\n",
       "        text-align: right;\n",
       "    }\n",
       "</style>\n",
       "<table border=\"1\" class=\"dataframe\">\n",
       "  <thead>\n",
       "    <tr style=\"text-align: right;\">\n",
       "      <th></th>\n",
       "      <th>ID</th>\n",
       "      <th>x.coord</th>\n",
       "      <th>y.coord</th>\n",
       "      <th>angle</th>\n",
       "      <th>distance</th>\n",
       "      <th>RSSI</th>\n",
       "      <th>rel</th>\n",
       "      <th>dist1</th>\n",
       "    </tr>\n",
       "  </thead>\n",
       "  <tbody>\n",
       "    <tr>\n",
       "      <th>0</th>\n",
       "      <td>6</td>\n",
       "      <td>0</td>\n",
       "      <td>0</td>\n",
       "      <td>150</td>\n",
       "      <td>5.000000</td>\n",
       "      <td>-57</td>\n",
       "      <td>113.130102</td>\n",
       "      <td>(4,5]</td>\n",
       "    </tr>\n",
       "    <tr>\n",
       "      <th>1</th>\n",
       "      <td>7</td>\n",
       "      <td>0</td>\n",
       "      <td>0</td>\n",
       "      <td>180</td>\n",
       "      <td>5.000000</td>\n",
       "      <td>-59</td>\n",
       "      <td>143.130102</td>\n",
       "      <td>(4,5]</td>\n",
       "    </tr>\n",
       "    <tr>\n",
       "      <th>2</th>\n",
       "      <td>9</td>\n",
       "      <td>0</td>\n",
       "      <td>0</td>\n",
       "      <td>240</td>\n",
       "      <td>5.000000</td>\n",
       "      <td>-59</td>\n",
       "      <td>-156.869898</td>\n",
       "      <td>(4,5]</td>\n",
       "    </tr>\n",
       "    <tr>\n",
       "      <th>3</th>\n",
       "      <td>11</td>\n",
       "      <td>0</td>\n",
       "      <td>0</td>\n",
       "      <td>300</td>\n",
       "      <td>5.000000</td>\n",
       "      <td>-58</td>\n",
       "      <td>-96.869898</td>\n",
       "      <td>(4,5]</td>\n",
       "    </tr>\n",
       "    <tr>\n",
       "      <th>4</th>\n",
       "      <td>14</td>\n",
       "      <td>0</td>\n",
       "      <td>1</td>\n",
       "      <td>30</td>\n",
       "      <td>4.472136</td>\n",
       "      <td>-59</td>\n",
       "      <td>3.434949</td>\n",
       "      <td>(4,5]</td>\n",
       "    </tr>\n",
       "  </tbody>\n",
       "</table>\n",
       "</div>"
      ],
      "text/plain": [
       "   ID  x.coord  y.coord  angle  distance  RSSI         rel  dist1\n",
       "0   6        0        0    150  5.000000   -57  113.130102  (4,5]\n",
       "1   7        0        0    180  5.000000   -59  143.130102  (4,5]\n",
       "2   9        0        0    240  5.000000   -59 -156.869898  (4,5]\n",
       "3  11        0        0    300  5.000000   -58  -96.869898  (4,5]\n",
       "4  14        0        1     30  4.472136   -59    3.434949  (4,5]"
      ]
     },
     "execution_count": 2,
     "metadata": {},
     "output_type": "execute_result"
    }
   ],
   "source": [
    "#import libraries\n",
    "import pandas as pd\n",
    "import numpy as np\n",
    "from sklearn.model_selection import train_test_split\n",
    "from sklearn.model_selection import cross_val_score\n",
    "from sklearn.neighbors import KNeighborsClassifier\n",
    "from sklearn import preprocessing, utils\n",
    "\n",
    "#import dataset\n",
    "df = pd.read_csv(r'D:\\Data Practice\\KnnData2.csv')\n",
    "df.head()"
   ]
  },
  {
   "cell_type": "markdown",
   "metadata": {},
   "source": [
    "For the KNN analysis, the inputs will be designated as the angle in which the tranmission occurs and the RSSI at that specific angle. The output is the distance classifier 'dist1.' The angle was orginally set at fixed positions. To accurately show the angle in which the antenna was placed relative to the RFID tag, the column 'rel' is used. Both metrics will be used to compare in which is more accurate. "
   ]
  },
  {
   "cell_type": "code",
   "execution_count": 8,
   "metadata": {},
   "outputs": [],
   "source": [
    "#inputs and outputs\n",
    "\n",
    "#Compass Angle\n",
    "feature_cols1 = ['angle', 'RSSI']\n",
    "x = df[feature_cols1]\n",
    "\n",
    "y = df.dist1"
   ]
  },
  {
   "cell_type": "markdown",
   "metadata": {},
   "source": [
    "## KNN\n",
    "\n",
    "> K-nearest neighbors is an algorithm used for classification or\n",
    "regression analysis. The algorithm is used to determine the\n",
    "closest amount, k, of training instances to a specific parameter.\n",
    "In both the regression and classification analysis, due to the use\n",
    "of continuous variables, the identification of the nearest training\n",
    "instances is found through the Euclidean distance defined as:  \n",
    "√((𝑞1 − 𝑝1)^2 + (𝑞2 − 𝑝2)^2), (2)  \n",
    "where 𝑝 = (𝑝1, 𝑝2) and 𝑞 = (𝑞1, 𝑞2) are defined as two points\n",
    "in a Cartesian, Euclidean space.\n",
    "\n",
    "For classification, KNN uses a majority voting system, based on the value of k (cluster). [This article](https://www.analyticsvidhya.com/blog/2018/03/introduction-k-neighbours-algorithm-clustering/) goes more in depth towards the KNN algorithm. Using the image provided, the cluster size is bound by the circles. Based on majority rule, where the classification is equal to the pluarity bounded by the boxes, for:\n",
    "\n",
    "- k = 3, the result is a Red Triangle  \n",
    "- k = 5, the result is a Blue Square\n",
    "- k = 11, the result is a Blue Square  \n",
    "\n",
    "Similar to my [Damwon League of Legends Project](https://github.com/inm2/Damwon-Analysis), to avoid overtraining, the data must be split into training and testing sets. I chose an 80/20 split.\n",
    "\n",
    "I chose to use a value of k = 5 for the cluster size, to keep measurements standard. "
   ]
  },
  {
   "cell_type": "code",
   "execution_count": 11,
   "metadata": {},
   "outputs": [
    {
     "name": "stdout",
     "output_type": "stream",
     "text": [
      "Knn Score (Compass Angle) = \n",
      "0.5146740809391411\n"
     ]
    }
   ],
   "source": [
    "#(80/20 Split - Compass Angle)\n",
    "xtrain, xtest, ytrain, ytest = train_test_split(x, y, test_size = .2, random_state=1)\n",
    "\n",
    "#Create KNN Classifier\n",
    "knn = KNeighborsClassifier(n_neighbors = 5)\n",
    "\n",
    "#Fit the classiifer to the data\n",
    "knn.fit(xtrain, ytrain)\n",
    "\n",
    "#show first 5 model predictions on the test data\n",
    "knn.predict(xtest)\n",
    "\n",
    "#check accuracy of the model on the test data\n",
    "print(\"Knn Score (Compass Angle) = \")\n",
    "print(knn.score(xtest, ytest))"
   ]
  },
  {
   "cell_type": "markdown",
   "metadata": {},
   "source": [
    "The Accuracy (KNN Score) using the Compass Angle as a metric is 51.46% accuracy. This value is pretty low, and is a result of keeping the angle measurement static along a grid. The process is repeated for the relative angle, and the result is nearly 91% accuracy.  "
   ]
  },
  {
   "cell_type": "code",
   "execution_count": 12,
   "metadata": {},
   "outputs": [
    {
     "name": "stdout",
     "output_type": "stream",
     "text": [
      "Knn Score (Relative Angle) = \n",
      "0.9076305220883534\n"
     ]
    }
   ],
   "source": [
    "#inputs and outputs\n",
    "\n",
    "#Relative Angle\n",
    "feature_cols2 = ['rel', 'RSSI']\n",
    "x = df[feature_cols2]\n",
    "\n",
    "y = df.dist1\n",
    "\n",
    "#(80/20 Split - Relative Angle)\n",
    "xtrain, xtest, ytrain, ytest = train_test_split(x, y, test_size = .2, random_state=1)\n",
    "\n",
    "#Create KNN Classifier (k = 5 in this case)\n",
    "knn = KNeighborsClassifier(n_neighbors = 5)\n",
    "\n",
    "#Fit the classiifer to the data\n",
    "knn.fit(xtrain, ytrain)\n",
    "\n",
    "#show first 5 model predictions on the test data\n",
    "knn.predict(xtest)\n",
    "\n",
    "#check accuracy of the model on the test data\n",
    "print(\"Knn Score (Relative Angle) = \")\n",
    "print(knn.score(xtest, ytest))"
   ]
  },
  {
   "cell_type": "markdown",
   "metadata": {},
   "source": [
    "## Cross-Validation\n",
    "\n",
    "In the example above, the data is set to be randomized. This is to avoid overfitting. To further avoid over-generalization of the data, another split to the data, [a validation set](https://scikit-learn.org/stable/modules/cross_validation.html#cross-validation), can be used. Instead of further separating the testing data into smaller subsets, cross-validation can be used to split the training data into k smaller sets (also known as k-fold cross-validation). \n",
    "\n",
    "For this project, the relative angle training data will be subject to 5-fold and 10-fold cross-validation. For each fold, the KNN score, or accuracy, of the model will be computed. To get the true accuracy of the model, the means of each fold's accuracy are computed. "
   ]
  },
  {
   "cell_type": "code",
   "execution_count": 17,
   "metadata": {},
   "outputs": [
    {
     "name": "stdout",
     "output_type": "stream",
     "text": [
      "Cross Validation Score (cv = 5): \n",
      "[0.89935165 0.90358467 0.8974042  0.92212608 0.91131026]\n",
      "cv_scores1 (Relative Angle 5-fold) mean:0.906755373612161\n",
      "\n",
      "Cross Validation Score (cv = 10): \n",
      "[0.91178285 0.91352687 0.92279185 0.90426189 0.90179123 0.90543881\n",
      " 0.91898578 0.92269635 0.91960421 0.89486704]\n",
      "cv_scores2 (Relative Angle 10-fold) mean:0.9115746868347154\n"
     ]
    }
   ],
   "source": [
    "#Using cv = 5 cross-validation\n",
    "knn_cv = KNeighborsClassifier(n_neighbors = 5)\n",
    "cv_scores1 = cross_val_score(knn_cv, x, y, cv = 5)\n",
    "\n",
    "print('Cross Validation Score (cv = 5): ')\n",
    "print(cv_scores1)\n",
    "print('cv_scores1 (Relative Angle 5-fold) mean:{}'.format(np.mean(cv_scores1)))\n",
    "\n",
    "#Using cv = 10 cross-validation\n",
    "knn_cv = KNeighborsClassifier(n_neighbors = 5)\n",
    "cv_scores2 = cross_val_score(knn_cv, x, y, cv = 10)\n",
    "\n",
    "print('\\nCross Validation Score (cv = 10): ')\n",
    "print(cv_scores2)\n",
    "print('cv_scores2 (Relative Angle 10-fold) mean:{}'.format(np.mean(cv_scores2)))"
   ]
  },
  {
   "cell_type": "markdown",
   "metadata": {},
   "source": [
    "## Hypothesis Testing\n",
    "\n",
    "Judging by the accuracy of the compass angle vs the relative angle, the relative angle has a higher accuracy. Since we can already infer that the relative angle is a superior variable compared to the compass angle, doing some sort of hypothesis test is unnecessary.\n",
    "\n",
    "However, in general cases, doing an A/B test on your data is an important factor to determine if your assumption is correct when comparing it to a new assessment. Since we already have the accuracy means of the relative angle, two tests can be used to determine if the samples are significantly different and if the two have any dependencies on each other: t-test and correlation testing.  \n",
    "\n",
    "A t-test is used to compare whether or not the means of two independent samples are significantly different. \n",
    "\n",
    "Hypothesis:  \n",
    "H0: The means of both data sets are equal. (p > 0.05)  \n",
    "H1: The means of both data sets are unequal.  \n",
    "\n",
    "A correlation test is to determine if there is a relationship amongst two datasets.\n",
    "\n",
    "Hypothesis:  \n",
    "H0: Both data sets are independent of each other. (p > 0.05)    \n",
    "H1: Both data sets have some sort of dependency.  \n",
    "\n",
    "I have already evaluated the 10-fold relative angle model, so the compass angle will need to be evaluated. \n",
    "\n",
    "[This website has more evaluation tests that can be done, so credit to this website for the code](https://machinelearningmastery.com/statistical-hypothesis-tests-in-python-cheat-sheet/)"
   ]
  },
  {
   "cell_type": "code",
   "execution_count": 19,
   "metadata": {},
   "outputs": [
    {
     "name": "stdout",
     "output_type": "stream",
     "text": [
      "\n",
      "Cross Validation Score (cv = 10): \n",
      "[0.50771129 0.52439778 0.48239654 0.51945645 0.51080914 0.48207664\n",
      " 0.53741497 0.54421769 0.54050711 0.51205937]\n",
      "cv_scores2 (Compass Angle 10-fold) mean:0.5161046974878054\n"
     ]
    }
   ],
   "source": [
    "#Compass Angle\n",
    "feature_cols1 = ['angle', 'RSSI']\n",
    "x_angle = df[feature_cols1]\n",
    "cv_scores3 = cross_val_score(knn_cv, x_angle, y, cv = 10)\n",
    "\n",
    "print('\\nCross Validation Score (cv = 10): ')\n",
    "print(cv_scores3)\n",
    "print('cv_scores2 (Compass Angle 10-fold) mean:{}'.format(np.mean(cv_scores3)))"
   ]
  },
  {
   "cell_type": "code",
   "execution_count": 23,
   "metadata": {},
   "outputs": [],
   "source": [
    "from scipy.stats import ttest_ind, pearsonr"
   ]
  },
  {
   "cell_type": "code",
   "execution_count": 25,
   "metadata": {},
   "outputs": [
    {
     "name": "stdout",
     "output_type": "stream",
     "text": [
      "stat=52.190, p=0.000\n",
      "Different distributions\n",
      "stat=0.318, p=0.370\n",
      "Probably independent\n"
     ]
    }
   ],
   "source": [
    "#t-test\n",
    "stat, p = ttest_ind(cv_scores2, cv_scores3)\n",
    "print('stat=%.3f, p=%.3f' % (stat, p))\n",
    "\n",
    "if p > 0.05:\n",
    "    print('Near same distribution')\n",
    "else:\n",
    "    print('Different distributions')\n",
    "\n",
    "#Correlation test\n",
    "stat2, p2 = pearsonr(cv_scores2, cv_scores3)\n",
    "print('stat=%.3f, p=%.3f' % (stat2, p2))\n",
    "if p2 > 0.05:\n",
    "    print('Probably independent')\n",
    "else:\n",
    "    print('Probably dependent')"
   ]
  },
  {
   "cell_type": "markdown",
   "metadata": {},
   "source": [
    "For the t-test, since the p-value is less than 0.05, the null hypothesis, H0, is rejected. \n",
    "\n",
    "For the correlation test, the p-value is greater than 0.05, so there is evidence to fail to reject the null hypothesis."
   ]
  }
 ],
 "metadata": {
  "kernelspec": {
   "display_name": "Python 3",
   "language": "python",
   "name": "python3"
  },
  "language_info": {
   "codemirror_mode": {
    "name": "ipython",
    "version": 3
   },
   "file_extension": ".py",
   "mimetype": "text/x-python",
   "name": "python",
   "nbconvert_exporter": "python",
   "pygments_lexer": "ipython3",
   "version": "3.7.3"
  }
 },
 "nbformat": 4,
 "nbformat_minor": 2
}
